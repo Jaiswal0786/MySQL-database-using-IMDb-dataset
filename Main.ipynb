{
 "cells": [
  {
   "cell_type": "markdown",
   "metadata": {},
   "source": [
    "## Imports"
   ]
  },
  {
   "cell_type": "code",
   "execution_count": 127,
   "metadata": {},
   "outputs": [],
   "source": [
    "import mysql.connector\n",
    "import pandas as pd\n",
    "import matplotlib.pyplot as plt # general plotting\n",
    "import matplotlib as mpl # for figure quality (dpi)\n",
    "import os"
   ]
  },
  {
   "cell_type": "markdown",
   "metadata": {},
   "source": [
    "## Connect to IMDb database "
   ]
  },
  {
   "cell_type": "code",
   "execution_count": 130,
   "metadata": {},
   "outputs": [],
   "source": [
    "mydb = mysql.connector.connect(\n",
    "    host='localhost',\n",
    "    user='root',\n",
    "    passwd='Jaiswal',\n",
    "    auth_plugin='mysql_native_password',\n",
    "    database='IMDb') "
   ]
  },
  {
   "cell_type": "markdown",
   "metadata": {},
   "source": [
    "Database cursor "
   ]
  },
  {
   "cell_type": "code",
   "execution_count": 131,
   "metadata": {},
   "outputs": [],
   "source": [
    "mycursor = mydb.cursor()\n",
    "mycursor.execute(\"SHOW TABLES;\")\n",
    "tables = mycursor.fetchall()"
   ]
  },
  {
   "cell_type": "code",
   "execution_count": 132,
   "metadata": {},
   "outputs": [
    {
     "name": "stdout",
     "output_type": "stream",
     "text": [
      "IMDb Database contains the following tables:\n",
      "--------------------------------------------\n",
      "alias_attributes\n",
      "alias_types\n",
      "aliases\n",
      "directors\n",
      "episode_belongs_to\n",
      "had_role\n",
      "known_for\n",
      "name_worked_as\n",
      "names_\n",
      "principals\n",
      "q1\n",
      "q10\n",
      "q11\n",
      "q12\n",
      "q13\n",
      "q14\n",
      "q15\n",
      "q16\n",
      "q17\n",
      "q18\n",
      "q19\n",
      "q2\n",
      "q20\n",
      "q21\n",
      "q22\n",
      "q23\n",
      "q24\n",
      "q3\n",
      "q4\n",
      "q5\n",
      "q6\n",
      "q7\n",
      "q8\n",
      "q9\n",
      "title_genres\n",
      "title_ratings\n",
      "titles\n",
      "writers\n"
     ]
    }
   ],
   "source": [
    "print('IMDb Database contains the following tables:')\n",
    "print('--------------------------------------------')\n",
    "for table in tables:\n",
    "    print(table[0])"
   ]
  },
  {
   "cell_type": "markdown",
   "metadata": {},
   "source": [
    "# Data Dictionary"
   ]
  },
  {
   "cell_type": "code",
   "execution_count": 195,
   "metadata": {},
   "outputs": [],
   "source": [
    "data_dict = {\n",
    "    \"title_id\": \"example3_id\",\n",
    "    \"title_type\": \"Movie\",\n",
    "    \"primary_title\": \"Example Movie\",\n",
    "    \"original_title\": \"Original Example Movie\",\n",
    "    \"is_adult\": False,\n",
    "    \"start_year\": 2022,\n",
    "    \"end_year\": None,\n",
    "    \"runtime_minutes\": 120,\n",
    "    \"average_rating\": 9.0,\n",
    "    \"num_votes\": 1,\n",
    "    \"ordering\": 1,\n",
    "    \"name_id\": \"actor123\",\n",
    "    \"job_category\": \"Actor\",\n",
    "    \"job\": \"Lead Actor\"\n",
    "}"
   ]
  },
  {
   "cell_type": "markdown",
   "metadata": {},
   "source": [
    "# Authentication\n"
   ]
  },
  {
   "cell_type": "code",
   "execution_count": 197,
   "metadata": {},
   "outputs": [],
   "source": [
    "import mysql.connector\n",
    "import pandas as pd\n",
    "\n",
    "class User:\n",
    "    def __init__(self, username, is_admin=False):\n",
    "        self.username = username\n",
    "        self.is_admin = is_admin\n",
    "\n",
    "class AuthenticationSystem:\n",
    "    def __init__(self):\n",
    "        self.users = {}\n",
    "\n",
    "    def add_user(self, username, is_admin=False):\n",
    "        if username not in self.users:\n",
    "            user = User(username, is_admin)\n",
    "            self.users[username] = user\n",
    "            return user\n",
    "        else:\n",
    "            print(f\"User {username} already exists.\")\n",
    "            return self.users[username]\n",
    "\n",
    "    def execute_query(self, user, query):\n",
    "        if \"DELETE\" in query.upper() and not user.is_admin:\n",
    "            print(f\"User {user.username} does not have permission to execute DELETE queries.\")\n",
    "            return None\n",
    "        else:\n",
    "            print(f\"Executing query: {query}\")\n",
    "            mycursor.execute(query)\n",
    "            result = mycursor.fetchall()\n",
    "            mydb.commit()\n",
    "            column_names = mycursor.column_names\n",
    "            return result, column_names\n",
    "        \n",
    "    def insert_into_titles(self, user, data_dict):\n",
    "        if not user.is_admin:\n",
    "            print(f\"User {user.username} does not have permission to execute INSERT queries.\")\n",
    "            return None\n",
    "        else:\n",
    "            try:\n",
    "                insert_titles_query = \"INSERT INTO Titles (title_id, title_type, primary_title, original_title, is_adult, start_year, end_year, runtime_minutes) VALUES (%(title_id)s, %(title_type)s, %(primary_title)s, %(original_title)s, %(is_adult)s, %(start_year)s, %(end_year)s, %(runtime_minutes)s)\"\n",
    "                mycursor.execute(insert_titles_query, data_dict)\n",
    "                mydb.commit()\n",
    "                insert_ratings_query = \"INSERT INTO Title_ratings (title_id, average_rating, num_votes) VALUES (%(title_id)s, %(average_rating)s, %(num_votes)s)\"\n",
    "                mycursor.execute(insert_ratings_query, data_dict)\n",
    "                # insert_principals_query = \"INSERT INTO Principals (title_id, ordering, name_id, job_category, job) VALUES (%(title_id)s, %(ordering)s, %(name_id)s, %(job_category)s, %(job)s)\"\n",
    "                # mycursor.execute(insert_principals_query, data_dict)\n",
    "                mydb.commit()\n",
    "                print(\"Insertion successful!\")\n",
    "            except Exception as e:\n",
    "                print(f\"Error: {e}\")\n",
    "\n",
    "    def delete_from_titles(self, user, title_id):\n",
    "        if not user.is_admin:\n",
    "            print(f\"User {user.username} does not have permission to execute DELETE queries.\")\n",
    "            return None\n",
    "        else:\n",
    "            try:\n",
    "                delete_ratings_query = \"DELETE FROM Title_ratings WHERE title_id = %s\"\n",
    "                mycursor.execute(delete_ratings_query, (title_id,))\n",
    "                mydb.commit()\n",
    "                delete_titles_query = \"DELETE FROM Titles WHERE title_id = %s\"\n",
    "                mycursor.execute(delete_titles_query, (title_id,))\n",
    "                # delete_query = \"DELETE FROM Titles WHERE title_id = %s\"\n",
    "                # mycursor.execute(delete_query, (title_id,))\n",
    "                mydb.commit()\n",
    "                print(\"Deletion successful!\")\n",
    "            except Exception as e:\n",
    "                print(f\"Error: {e}\")\n",
    "\n",
    "auth_system = AuthenticationSystem()\n",
    "role = input(\"Enter your role (user or admin): \")\n",
    "current_user = auth_system.add_user(\"user\", is_admin=(role.lower() == 'admin'))"
   ]
  },
  {
   "cell_type": "code",
   "execution_count": 185,
   "metadata": {},
   "outputs": [],
   "source": []
  },
  {
   "cell_type": "code",
   "execution_count": 196,
   "metadata": {},
   "outputs": [
    {
     "name": "stdout",
     "output_type": "stream",
     "text": [
      "Insertion successful!\n"
     ]
    }
   ],
   "source": [
    "# data_tuple = ('example_id', 'Movie', 'Example Movie', 'Original Example Movie', False, 2022, None, 120)\n",
    "auth_system.insert_into_titles(current_user, data_dict)"
   ]
  },
  {
   "cell_type": "code",
   "execution_count": 198,
   "metadata": {},
   "outputs": [
    {
     "name": "stdout",
     "output_type": "stream",
     "text": [
      "Deletion successful!\n"
     ]
    }
   ],
   "source": [
    "title_id_to_delete = 'example2_id'\n",
    "auth_system.delete_from_titles(current_user, title_id_to_delete)"
   ]
  },
  {
   "cell_type": "markdown",
   "metadata": {},
   "source": [
    "### Rate a Movie"
   ]
  },
  {
   "cell_type": "code",
   "execution_count": 184,
   "metadata": {},
   "outputs": [
    {
     "name": "stdout",
     "output_type": "stream",
     "text": [
      "Executing query: UPDATE Title_ratings\n",
      "    SET average_rating = (average_rating * num_votes + 9.0) / (num_votes + 1),\n",
      "        num_votes = num_votes + 1\n",
      "    WHERE title_id = 'example_id';\n"
     ]
    }
   ],
   "source": [
    "tup = ('9.0', 'example_id')\n",
    "query = f\"\"\"UPDATE Title_ratings\n",
    "    SET average_rating = (average_rating * num_votes + {float(tup[0])}) / (num_votes + 1),\n",
    "        num_votes = num_votes + 1\n",
    "    WHERE title_id = '{tup[1]}';\"\"\"\n",
    "\n",
    "result, column_names = auth_system.execute_query(current_user, query)"
   ]
  },
  {
   "cell_type": "code",
   "execution_count": 156,
   "metadata": {},
   "outputs": [
    {
     "name": "stdout",
     "output_type": "stream",
     "text": [
      "Choose a query to execute:\n",
      "Executing query: SELECT * FROM Q1;\n"
     ]
    }
   ],
   "source": [
    "query_options = {\n",
    "    1: \"SELECT * FROM Q1;\",\n",
    "    2: \"SELECT * FROM Q2;\",\n",
    "    3: \"SELECT * FROM Q3;\",\n",
    "    4: \"SELECT * FROM Q4 LIMIT 10;\",\n",
    "    5: \"SELECT * FROM Q5;\",\n",
    "    6: \"SELECT * FROM Q6;\",\n",
    "    7: \"SELECT * FROM Q7;\",\n",
    "    8: \"SELECT * FROM Q8;\",\n",
    "    9: \"SELECT * FROM Q9;\",\n",
    "    10: \"SELECT * FROM Q10;\",\n",
    "    11: \"SELECT * FROM Q11;\",\n",
    "    12: \"SELECT * FROM Q12;\",\n",
    "    13: \"SELECT * FROM Q13;\",\n",
    "    14: \"SELECT * FROM Q14;\",\n",
    "    15: \"SELECT * FROM Q15 LIMIT 15;\",\n",
    "    16: \"SELECT * FROM Q16;\",\n",
    "    17: \"SELECT * FROM Q17;\",\n",
    "    18: \"SELECT * FROM Q18;\",\n",
    "    19: \"SELECT * FROM Q19;\",\n",
    "    20: \"SELECT * FROM Q20;\",\n",
    "    21: \"SELECT * FROM Q21;\",\n",
    "    22: \"SELECT * FROM Q22;\",\n",
    "    23: \"SELECT * FROM Q23;\",\n",
    "    24: \"SELECT * FROM Q24;\"\n",
    "\n",
    "}\n",
    "\n",
    "print(\"Choose a query to execute:\")\n",
    "query_choice = int(input(\"Enter the query number: \"))\n",
    "result, column_names = auth_system.execute_query(current_user, query_options.get(query_choice))\n"
   ]
  },
  {
   "cell_type": "code",
   "execution_count": 157,
   "metadata": {},
   "outputs": [
    {
     "name": "stdout",
     "output_type": "stream",
     "text": [
      "  title_type  Count\n",
      "0      Movie      1\n",
      "1      movie      9\n",
      "2      short      1\n",
      "3  tvEpisode      7\n",
      "4   tvSeries      4\n"
     ]
    }
   ],
   "source": [
    "if result is not None:\n",
    "    df = pd.DataFrame(result, columns=column_names)\n",
    "    print(df)"
   ]
  },
  {
   "cell_type": "markdown",
   "metadata": {},
   "source": [
    "## Visualising the ratings of the tv show \"The X-Files\""
   ]
  },
  {
   "cell_type": "markdown",
   "metadata": {},
   "source": [
    "What is the average rating of each episode of The X-Files? "
   ]
  },
  {
   "cell_type": "code",
   "execution_count": 136,
   "metadata": {},
   "outputs": [],
   "source": [
    "Query1 = \"\"\"SELECT E.season_number, E.episode_number, T2.primary_title, R.average_rating\n",
    "FROM Titles AS T1, Titles AS T2, Episode_belongs_to AS E, Title_ratings AS R\n",
    "WHERE T1.primary_title = 'Breaking Bad'\n",
    "AND T1.title_type = 'tvSeries'\n",
    "AND T1.title_id = E.parent_tv_show_title_id\n",
    "AND T2.title_type = 'tvEpisode'\n",
    "AND T2.title_id = E.episode_title_id\n",
    "AND T2.title_id = R.title_id\n",
    "ORDER BY E.season_number, E.episode_number;\"\"\""
   ]
  },
  {
   "cell_type": "code",
   "execution_count": 137,
   "metadata": {},
   "outputs": [
    {
     "name": "stdout",
     "output_type": "stream",
     "text": [
      "Executing query: SELECT E.season_number, E.episode_number, T2.primary_title, R.average_rating\n",
      "FROM Titles AS T1, Titles AS T2, Episode_belongs_to AS E, Title_ratings AS R\n",
      "WHERE T1.primary_title = 'Breaking Bad'\n",
      "AND T1.title_type = 'tvSeries'\n",
      "AND T1.title_id = E.parent_tv_show_title_id\n",
      "AND T2.title_type = 'tvEpisode'\n",
      "AND T2.title_id = E.episode_title_id\n",
      "AND T2.title_id = R.title_id\n",
      "ORDER BY E.season_number, E.episode_number;\n",
      "   season_number  episode_number primary_title  average_rating\n",
      "0              1               1           Ep1             9.0\n",
      "1              2               2           Ep2             9.5\n"
     ]
    }
   ],
   "source": [
    "result, column_names = auth_system.execute_query(current_user, Query1)"
   ]
  },
  {
   "cell_type": "code",
   "execution_count": 138,
   "metadata": {},
   "outputs": [
    {
     "name": "stdout",
     "output_type": "stream",
     "text": [
      "   season_number  episode_number primary_title  average_rating\n",
      "0              1               1           Ep1             9.0\n",
      "1              2               2           Ep2             9.5\n"
     ]
    }
   ],
   "source": [
    "if result is not None:\n",
    "    df = pd.DataFrame(result, columns=column_names)\n",
    "    print(df)"
   ]
  },
  {
   "cell_type": "markdown",
   "metadata": {},
   "source": [
    "How many episodes were there in Breaking Bad per season? And what was the average of the average episode ratings for each season?"
   ]
  },
  {
   "cell_type": "code",
   "execution_count": 139,
   "metadata": {},
   "outputs": [],
   "source": [
    "Query2 = \"\"\"SELECT Q22.season_number, COUNT(*) AS Number_of_episodes, AVG(Q22.average_rating) AS Average_of_ep_average_ratings\n",
    "FROM Q22\n",
    "GROUP BY Q22.season_number\n",
    "ORDER BY Q22.season_number;\"\"\""
   ]
  },
  {
   "cell_type": "code",
   "execution_count": 142,
   "metadata": {},
   "outputs": [
    {
     "name": "stdout",
     "output_type": "stream",
     "text": [
      "Executing query: SELECT Q22.season_number, COUNT(*) AS Number_of_episodes, AVG(Q22.average_rating) AS Average_of_ep_average_ratings\n",
      "FROM Q22\n",
      "GROUP BY Q22.season_number\n",
      "ORDER BY Q22.season_number;\n"
     ]
    }
   ],
   "source": [
    "result, column_names = auth_system.execute_query(current_user, Query2)"
   ]
  },
  {
   "cell_type": "code",
   "execution_count": 143,
   "metadata": {},
   "outputs": [
    {
     "name": "stdout",
     "output_type": "stream",
     "text": [
      "   season_number  Number_of_episodes  Average_of_ep_average_ratings\n",
      "0              1                   1                            9.0\n",
      "1              2                   1                            9.5\n"
     ]
    }
   ],
   "source": [
    "if result is not None:\n",
    "    df = pd.DataFrame(result, columns=column_names)\n",
    "    print(df)"
   ]
  },
  {
   "cell_type": "markdown",
   "metadata": {},
   "source": [
    "## Genres "
   ]
  },
  {
   "cell_type": "markdown",
   "metadata": {},
   "source": [
    "### What genres are there? How many movies are there in each genre?"
   ]
  },
  {
   "cell_type": "code",
   "execution_count": 87,
   "metadata": {},
   "outputs": [],
   "source": [
    "Query3 =\"\"\"SELECT G.genre, COUNT(G.genre) AS Count\n",
    "FROM Title_genres AS G, Titles AS T\n",
    "WHERE T.title_id = G.title_id\n",
    "AND T.title_type = 'movie'\n",
    "GROUP BY genre\n",
    "ORDER BY Count DESC;\"\"\""
   ]
  },
  {
   "cell_type": "code",
   "execution_count": 144,
   "metadata": {},
   "outputs": [
    {
     "name": "stdout",
     "output_type": "stream",
     "text": [
      "Executing query: SELECT G.genre, COUNT(G.genre) AS Count\n",
      "FROM Title_genres AS G, Titles AS T\n",
      "WHERE T.title_id = G.title_id\n",
      "AND T.title_type = 'movie'\n",
      "GROUP BY genre\n",
      "ORDER BY Count DESC;\n"
     ]
    }
   ],
   "source": [
    "result, column_names = auth_system.execute_query(current_user, Query3)"
   ]
  },
  {
   "cell_type": "code",
   "execution_count": 145,
   "metadata": {},
   "outputs": [
    {
     "name": "stdout",
     "output_type": "stream",
     "text": [
      "           genre  Count\n",
      "0       Action\\r      3\n",
      "1        Short\\r      2\n",
      "2  Documentary\\r      1\n",
      "3    Documentary      1\n",
      "4       Comedy\\r      1\n",
      "5      Romance\\r      1\n",
      "6        Drama\\r      1\n"
     ]
    }
   ],
   "source": [
    "if result is not None:\n",
    "    df = pd.DataFrame(result, columns=column_names)\n",
    "    print(df)"
   ]
  },
  {
   "cell_type": "markdown",
   "metadata": {},
   "source": [
    "### How many movies are made in each genre each year?"
   ]
  },
  {
   "cell_type": "code",
   "execution_count": 146,
   "metadata": {},
   "outputs": [],
   "source": [
    "Query4 =\"\"\"SELECT T.start_year, G.genre, COUNT(DISTINCT T.title_id) AS Number_of_movies\n",
    "FROM Titles AS T, Title_genres AS G\n",
    "WHERE T.title_id = G.title_id\n",
    "AND T.title_type = 'movie'\n",
    "AND T.start_year <= 2019\n",
    "GROUP BY T.start_year, G.genre\n",
    "ORDER BY T.start_year DESC, G.genre ASC;\"\"\""
   ]
  },
  {
   "cell_type": "code",
   "execution_count": 147,
   "metadata": {},
   "outputs": [
    {
     "name": "stdout",
     "output_type": "stream",
     "text": [
      "Executing query: SELECT T.start_year, G.genre, COUNT(DISTINCT T.title_id) AS Number_of_movies\n",
      "FROM Titles AS T, Title_genres AS G\n",
      "WHERE T.title_id = G.title_id\n",
      "AND T.title_type = 'movie'\n",
      "AND T.start_year <= 2019\n",
      "GROUP BY T.start_year, G.genre\n",
      "ORDER BY T.start_year DESC, G.genre ASC;\n"
     ]
    }
   ],
   "source": [
    "result, column_names = auth_system.execute_query(current_user, Query4)"
   ]
  },
  {
   "cell_type": "code",
   "execution_count": 148,
   "metadata": {},
   "outputs": [
    {
     "name": "stdout",
     "output_type": "stream",
     "text": [
      "   start_year          genre  Number_of_movies\n",
      "0        2001  Documentary\\r                 1\n",
      "1        2001    Documentary                 1\n",
      "2        2001        Short\\r                 1\n",
      "3        2000       Action\\r                 2\n",
      "4        2000        Drama\\r                 1\n",
      "5        1999        Short\\r                 1\n",
      "6        1997      Romance\\r                 1\n",
      "7        1994       Action\\r                 1\n",
      "8        1994       Comedy\\r                 1\n"
     ]
    }
   ],
   "source": [
    "if result is not None:\n",
    "    df = pd.DataFrame(result, columns=column_names)\n",
    "    print(df)"
   ]
  }
 ],
 "metadata": {
  "kernelspec": {
   "display_name": "Python 3",
   "language": "python",
   "name": "python3"
  },
  "language_info": {
   "codemirror_mode": {
    "name": "ipython",
    "version": 3
   },
   "file_extension": ".py",
   "mimetype": "text/x-python",
   "name": "python",
   "nbconvert_exporter": "python",
   "pygments_lexer": "ipython3",
   "version": "3.11.3"
  }
 },
 "nbformat": 4,
 "nbformat_minor": 2
}
